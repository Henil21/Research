{
  "cells": [
    {
      "cell_type": "markdown",
      "metadata": {
        "id": "view-in-github",
        "colab_type": "text"
      },
      "source": [
        "<a href=\"https://colab.research.google.com/github/Henil21/University-Research/blob/main/ITM_Research.ipynb\" target=\"_parent\"><img src=\"https://colab.research.google.com/assets/colab-badge.svg\" alt=\"Open In Colab\"/></a>"
      ]
    },
    {
      "cell_type": "markdown",
      "metadata": {
        "id": "Yl1R5Sxy7tzh"
      },
      "source": [
        "# MRI Classification using CNN\n",
        "**Index**\n",
        "\n",
        "```\n",
        "1. Fetching data ⛅\n",
        "2. Helper function for visualizing  our data 🆘\n",
        "3. visualizing the training data distribution 🔎\n",
        "4. pre processing ⚙\n",
        "5. Lets step into modeling 🕺\n",
        "6. Helperfunction for plotting loss curves 📉\n",
        "7. Adam V/S RMSprop 🤜\n",
        "```\n",
        "```\n",
        "2.0  Brain MRI Classification 🧠\n",
        "2.1  visualizing  our data 🔍\n",
        "2.2  pre processing ⚙\n",
        "2.3 Model Building 🕺\n",
        "2.4 Plottin Loss 📉\n",
        "```"
      ]
    },
    {
      "cell_type": "code",
      "source": [
        "from google.colab import drive\n",
        "drive.mount('/content/drive')"
      ],
      "metadata": {
        "colab": {
          "base_uri": "https://localhost:8080/"
        },
        "id": "oj1qQy-Hsgr5",
        "outputId": "03ab7d3a-d7e7-4e6c-96bd-a4ac8949b3d3"
      },
      "execution_count": 1,
      "outputs": [
        {
          "output_type": "stream",
          "name": "stdout",
          "text": [
            "Mounted at /content/drive\n"
          ]
        }
      ]
    },
    {
      "cell_type": "code",
      "execution_count": 2,
      "metadata": {
        "colab": {
          "base_uri": "https://localhost:8080/"
        },
        "id": "Q0jFOSTa7YFT",
        "outputId": "eb2863de-06aa-4882-a28c-0b03e258dfd6"
      },
      "outputs": [
        {
          "output_type": "stream",
          "name": "stdout",
          "text": [
            "GPU 0: Tesla T4 (UUID: GPU-dd00f08c-82db-68e3-945b-31081daa8f38)\n"
          ]
        }
      ],
      "source": [
        "!nvidia-smi  -L\n",
        "# making sure GPU is connected ✅"
      ]
    },
    {
      "cell_type": "markdown",
      "metadata": {
        "id": "FpZHpPeH4aSu"
      },
      "source": [
        "##*1 Getting the data ⛅*"
      ]
    },
    {
      "cell_type": "code",
      "execution_count": 3,
      "metadata": {
        "id": "VQ9VTxuH4vFk"
      },
      "outputs": [],
      "source": [
        "#fetching the data from cloud\n",
        "Chest_train='/content/drive/MyDrive/Chest/'\n",
        "Chest_test='/content/drive/MyDrive/Chest-Test'"
      ]
    },
    {
      "cell_type": "code",
      "source": [
        "from sklearn.metrics import precision_score, recall_score, f1_score\n",
        "\n",
        "def calculate_score(true_labels,predicted_labels):\n",
        "\n",
        "\n",
        "\n",
        "    precision = precision_score(true_labels, predicted_labels)\n",
        "    recall = recall_score(true_labels, predicted_labels)\n",
        "    f1 = f1_score(true_labels, predicted_labels)\n",
        "\n",
        "    print(\"Precision:\", precision)\n",
        "    print(\"Recall:\", recall)\n",
        "    print(\"F1 Score:\", f1)"
      ],
      "metadata": {
        "id": "hPukrRJTpYcE"
      },
      "execution_count": 4,
      "outputs": []
    },
    {
      "cell_type": "markdown",
      "metadata": {
        "id": "va9qzpsz56El"
      },
      "source": [
        "##2  *Helper function for Visualizing*🆘"
      ]
    },
    {
      "cell_type": "code",
      "execution_count": 5,
      "metadata": {
        "id": "DKBkWEyB5XSY"
      },
      "outputs": [],
      "source": [
        "import random\n",
        "import os\n",
        "import matplotlib.pyplot as plt\n",
        "import matplotlib.image as mpimg\n",
        "\n",
        "def view_random_image(target_dir,target_class):\n",
        "\n",
        "   # getting class vise dir link\n",
        "   target=target_dir+target_class\n",
        "\n",
        "   # taking 1 random image from a list of all images under a class\n",
        "   random_img=random.sample(os.listdir(target),1)\n",
        "\n",
        "   #as we have stored it in list we need to access it through index which is zero\n",
        "   image=mpimg.imread(target+'/'+random_img[0])\n",
        "\n",
        "   fig = plt.figure(figsize=(5, 2))  # Set the width and height of the figure\n",
        "\n",
        "\n",
        "   #plotting image\n",
        "   plt.imshow(image)\n",
        "\n",
        "   plt.axis(\"off\")\n",
        "   print(f\"img shape:{image.shape}\")"
      ]
    },
    {
      "cell_type": "code",
      "execution_count": 6,
      "metadata": {
        "colab": {
          "base_uri": "https://localhost:8080/",
          "height": 208
        },
        "id": "ZEy42W5Q9F1C",
        "outputId": "c95a30f1-53a1-4028-8bbb-148ae49cb148"
      },
      "outputs": [
        {
          "output_type": "stream",
          "name": "stdout",
          "text": [
            "img shape:(200, 300, 3)\n"
          ]
        },
        {
          "output_type": "display_data",
          "data": {
            "text/plain": [
              "<Figure size 500x200 with 1 Axes>"
            ],
            "image/png": "[encoded data removed]"
          },
          "metadata": {}
        }
      ],
      "source": [
        "view_random_image(target_dir=Chest_train,target_class='COVID-19')"
      ]
    },
    {
      "cell_type": "markdown",
      "metadata": {
        "id": "IenqVlE2I3g6"
      },
      "source": [
        "## 3 Lets visualize the distribution of the training data 🔍"
      ]
    },
    {
      "cell_type": "code",
      "execution_count": 7,
      "metadata": {
        "colab": {
          "base_uri": "https://localhost:8080/",
          "height": 333
        },
        "id": "u6vv3VGOHKd7",
        "outputId": "b5c65b54-60a9-4081-931d-92416f776b41"
      },
      "outputs": [
        {
          "output_type": "display_data",
          "data": {
            "text/plain": [
              "<Figure size 800x300 with 1 Axes>"
            ],
            "image/png": "[encoded data removed]"
          },
          "metadata": {}
        }
      ],
      "source": [
        "\n",
        "# getting length of the sub classes\n",
        "BAC_n=len(os.listdir('/content/drive/MyDrive/Chest/Bacteria pneumonia'))\n",
        "COVID=len(os.listdir('/content/drive/MyDrive/Chest/COVID-19'))\n",
        "Normal=len(os.listdir('/content/drive/MyDrive/Chest/NORMAL'))\n",
        "TB=len(os.listdir('/content/drive/MyDrive/Chest/Tuberculosis'))\n",
        "virus_n=len(os.listdir('/content/drive/MyDrive/Chest/Virus pneumonia'))\n",
        "\n",
        "classes=['Bacteria pneumonia', \"covid\",'normal','TB','Virus pneumonia']\n",
        "values=[BAC_n,COVID,Normal,TB,virus_n]\n",
        "\n",
        "fig = plt.figure(figsize=(8, 3))  # Set the width and height of the figure\n",
        "\n",
        "plt.bar(classes,values)\n",
        "\n",
        "# Adding title to the plot\n",
        "plt.title(\"Distribution of classes\")\n",
        "\n",
        "# Adding label on the y-axis\n",
        "plt.ylabel('number of data')\n",
        "\n",
        "# Adding label on the x-axis\n",
        "plt.xlabel('Classes')\n",
        "\n",
        "plt.show()"
      ]
    },
    {
      "cell_type": "markdown",
      "metadata": {
        "id": "aqH77c_-7vKI"
      },
      "source": [
        "## 4.Pre-processing ⚙"
      ]
    },
    {
      "cell_type": "code",
      "execution_count": 8,
      "metadata": {
        "colab": {
          "base_uri": "https://localhost:8080/"
        },
        "id": "7HVj-Bj55ZH2",
        "outputId": "a121acaf-75a5-401f-a7e3-708f2f5aa332"
      },
      "outputs": [
        {
          "output_type": "stream",
          "name": "stdout",
          "text": [
            "Found 5669 images belonging to 5 classes.\n",
            "Found 1395 images belonging to 5 classes.\n"
          ]
        }
      ],
      "source": [
        "from tensorflow.keras.preprocessing.image import ImageDataGenerator\n",
        "\n",
        "# recaling pixels\n",
        "train_data_gen = ImageDataGenerator(rescale=1./255,\n",
        "                                   )\n",
        "\n",
        "# dividing into batches and\n",
        "train_generator = train_data_gen.flow_from_directory(\n",
        "    Chest_train,\n",
        "    target_size=(224,224), #targeted shape\n",
        "    batch_size=(32),#32  images per batch\n",
        "    shuffle=True,\n",
        "    seed=42,\n",
        "    class_mode='categorical', # we are working with multiclass problem\n",
        "\n",
        ")\n",
        "\n",
        "\n",
        "# recaling pixels\n",
        "test_data_gen = ImageDataGenerator(rescale=1./255\n",
        "                                                              )\n",
        "\n",
        "# dividing into batches and\n",
        "test_generator = train_data_gen.flow_from_directory(\n",
        "    Chest_test,\n",
        "    target_size=(224, 224), #targeted shape\n",
        "    batch_size=(32),#32  images per batch\n",
        "     shuffle=False,\n",
        "     seed=42,\n",
        "    class_mode='categorical',# we are working with multiclass problem\n",
        "\n",
        ")"
      ]
    },
    {
      "cell_type": "code",
      "execution_count": 9,
      "metadata": {
        "colab": {
          "base_uri": "https://localhost:8080/"
        },
        "id": "xKDCohHhTtkp",
        "outputId": "48fb9038-e6de-4fab-e490-1a3f1aa98c19"
      },
      "outputs": [
        {
          "output_type": "stream",
          "name": "stdout",
          "text": [
            "['Tuberculosis', 'COVID-19', 'NORMAL', 'Bacteria pneumonia', 'Virus pneumonia']\n"
          ]
        }
      ],
      "source": [
        "import os\n",
        "\n",
        "# Specify the path to the directory you want to list subdirectories for\n",
        "directory_path = '/content/drive/MyDrive/Chest-Test'\n",
        "\n",
        "# Use the os.listdir() function to get a list of all items (files and directories) in the specified directory\n",
        "items = os.listdir(directory_path)\n",
        "\n",
        "# Iterate over the items and check if they are directories\n",
        "subdirectories = []\n",
        "for item in items:\n",
        "    item_path = os.path.join(directory_path, item)\n",
        "    if os.path.isdir(item_path):\n",
        "        subdirectories.append(item)\n",
        "\n",
        "# Print the list of subdirectories\n",
        "print(subdirectories)\n"
      ]
    },
    {
      "cell_type": "code",
      "execution_count": 10,
      "metadata": {
        "id": "Q-iOEE-FDePy"
      },
      "outputs": [],
      "source": [
        "# import os\n",
        "# import matplotlib.pyplot as plt\n",
        "# import random\n",
        "\n",
        "# # Assuming your images are organized in folders, where each folder represents a specific class label\n",
        "# data_dir = '/content/drive/MyDrive/Brain_multiclass/Training'  # Specify the path to your dataset directory\n",
        "\n",
        "# class_folders = os.listdir(data_dir)  # Get the list of class folders\n",
        "\n",
        "# selected_images = []  # List to store the selected images\n",
        "\n",
        "# for class_folder in class_folders:\n",
        "#     class_path = os.path.join(data_dir, class_folder)  # Get the path of the current class folder\n",
        "#     image_files = os.listdir(class_path)  # Get the list of image files in the current class folder\n",
        "#     selected_file = random.choice(image_files)  # Select a random image file\n",
        "#     selected_image_path = os.path.join(class_path, selected_file)  # Get the path of the selected image\n",
        "#     selected_images.append((selected_image_path, class_folder))  # Add the selected image path and its class folder name\n",
        "\n",
        "# fig, axs = plt.subplots(1, len(selected_images), figsize=(8, 4))  # Create subplots\n",
        "\n",
        "# for i, (image_path, class_folder) in enumerate(selected_images):\n",
        "#     image = plt.imread(image_path)  # Load the image from the path\n",
        "#     axs[i].imshow(image)  # Show the image\n",
        "#     axs[i].axis('off')  # Turn off axis labels\n",
        "#     axs[i].set_title(class_folder)  # Set the title as the class folder name\n",
        "\n",
        "# plt.tight_layout()  # Adjust spacing between subplots\n",
        "# plt.show()  # Display the figure\n"
      ]
    },
    {
      "cell_type": "markdown",
      "metadata": {
        "id": "Myj8lnkl-jyA"
      },
      "source": [
        "> we got 5669 images divided into 5 sub-classes for training\n",
        "\n",
        "> 1395 images divided into 5 sub-classes for testing\n",
        "\n",
        "> total image [training+test]= 7064"
      ]
    },
    {
      "cell_type": "markdown",
      "metadata": {
        "id": "cTsOs3fRAhlh"
      },
      "source": [
        "run below cell if u wanna see numeric representation"
      ]
    },
    {
      "cell_type": "code",
      "execution_count": 11,
      "metadata": {
        "id": "ibnjFzez-z3I"
      },
      "outputs": [],
      "source": [
        "# train_generator[0]"
      ]
    },
    {
      "cell_type": "markdown",
      "metadata": {
        "id": "cWGLkLblB8rE"
      },
      "source": [
        "## **5. Lets step into modeling 🕺**"
      ]
    },
    {
      "cell_type": "code",
      "execution_count": 15,
      "metadata": {
        "id": "r6mBBTrfCLwm"
      },
      "outputs": [],
      "source": [
        "import tensorflow as tf\n",
        "from tensorflow.keras.layers import Dense,Flatten,Conv2D,MaxPool2D, Activation\n",
        "from tensorflow.keras.optimizers import Adam,RMSprop\n",
        "from tensorflow.keras import Sequential\n",
        "\n",
        "\n",
        "tf.random.set_seed(42) #why 42? because it is Answer to the Ultimate Question of Life, the Universe, and Everything if you know you know\n",
        "\n",
        "Model_1=Sequential([\n",
        "    Conv2D(500,3,activation='relu', input_shape=(224,224,3)),  #3 is kernal size\n",
        "    MaxPool2D(),\n",
        "    Conv2D(250, 3, activation='relu'),\n",
        "    MaxPool2D(),\n",
        "    Conv2D(250, 3, activation='relu'),\n",
        "    MaxPool2D(),\n",
        "    Flatten(),\n",
        "    Dense(5, activation='softmax') # softmax as we are working with multiclass problem\n",
        "])\n"
      ]
    },
    {
      "cell_type": "code",
      "execution_count": 16,
      "metadata": {
        "id": "E2vNj2RDG2OZ"
      },
      "outputs": [],
      "source": [
        "Model_1.compile(loss='categorical_crossentropy', # as we got multiple classes\n",
        "                            optimizer=tf.keras.optimizers.RMSprop(), # for now lets dont specify the learning rate,  default is 0.001 and we will also try Rmspromp\n",
        "                            metrics=['accuracy'])# evaluation\n"
      ]
    },
    {
      "cell_type": "code",
      "execution_count": 17,
      "metadata": {
        "colab": {
          "base_uri": "https://localhost:8080/"
        },
        "id": "xvgwheu_IPXU",
        "outputId": "7207e9ad-da27-42c1-8301-ff22c5cc375e"
      },
      "outputs": [
        {
          "output_type": "stream",
          "name": "stdout",
          "text": [
            "Epoch 1/10\n",
            "178/178 [==============================] - 1226s 7s/step - loss: 1.3579 - accuracy: 0.5327 - val_loss: 0.8204 - val_accuracy: 0.6581\n",
            "Epoch 2/10\n",
            "178/178 [==============================] - 97s 541ms/step - loss: 0.8356 - accuracy: 0.6837 - val_loss: 0.6656 - val_accuracy: 0.7384\n",
            "Epoch 3/10\n",
            "178/178 [==============================] - 97s 542ms/step - loss: 0.7746 - accuracy: 0.7425 - val_loss: 0.6155 - val_accuracy: 0.7649\n",
            "Epoch 4/10\n",
            "178/178 [==============================] - 100s 564ms/step - loss: 0.5517 - accuracy: 0.7881 - val_loss: 0.4356 - val_accuracy: 0.8251\n",
            "Epoch 5/10\n",
            "178/178 [==============================] - 97s 543ms/step - loss: 0.4911 - accuracy: 0.8218 - val_loss: 0.4539 - val_accuracy: 0.8165\n",
            "Epoch 6/10\n",
            "178/178 [==============================] - 97s 542ms/step - loss: 0.3823 - accuracy: 0.8520 - val_loss: 0.3825 - val_accuracy: 0.8559\n",
            "Epoch 7/10\n",
            "178/178 [==============================] - 100s 564ms/step - loss: 0.3121 - accuracy: 0.8827 - val_loss: 0.4090 - val_accuracy: 0.8480\n",
            "Epoch 8/10\n",
            "178/178 [==============================] - 97s 543ms/step - loss: 0.2499 - accuracy: 0.9084 - val_loss: 0.3404 - val_accuracy: 0.8860\n",
            "Epoch 9/10\n",
            "178/178 [==============================] - 97s 542ms/step - loss: 0.1942 - accuracy: 0.9289 - val_loss: 0.5041 - val_accuracy: 0.8638\n",
            "Epoch 10/10\n",
            "178/178 [==============================] - 97s 543ms/step - loss: 0.1715 - accuracy: 0.9388 - val_loss: 0.3325 - val_accuracy: 0.8953\n"
          ]
        }
      ],
      "source": [
        "history=Model_1.fit(train_generator,\n",
        "                   epochs=10,\n",
        "                    steps_per_epoch=len(train_generator ),\n",
        "                   validation_data=(test_generator),\n",
        "                   validation_steps=len(test_generator ))"
      ]
    },
    {
      "cell_type": "code",
      "execution_count": 18,
      "metadata": {
        "id": "uGmGZdmVK3XA",
        "colab": {
          "base_uri": "https://localhost:8080/"
        },
        "outputId": "938c83da-ab45-4ff3-ea47-e647e4aaae27"
      },
      "outputs": [
        {
          "output_type": "stream",
          "name": "stdout",
          "text": [
            "Downloading data from https://storage.googleapis.com/tensorflow/keras-applications/vgg19/vgg19_weights_tf_dim_ordering_tf_kernels_notop.h5\n",
            "80134624/80134624 [==============================] - 1s 0us/step\n",
            "Epoch 1/10\n",
            "178/178 [==============================] - 49s 240ms/step - loss: 1.0947 - accuracy: 0.7033 - val_loss: 0.3962 - val_accuracy: 0.8265\n",
            "Epoch 2/10\n",
            "178/178 [==============================] - 37s 206ms/step - loss: 0.4195 - accuracy: 0.8340 - val_loss: 0.5917 - val_accuracy: 0.7778\n",
            "Epoch 3/10\n",
            "178/178 [==============================] - 40s 227ms/step - loss: 0.3478 - accuracy: 0.8615 - val_loss: 0.3282 - val_accuracy: 0.8659\n",
            "Epoch 4/10\n",
            "178/178 [==============================] - 40s 226ms/step - loss: 0.2997 - accuracy: 0.8785 - val_loss: 0.3833 - val_accuracy: 0.8452\n",
            "Epoch 5/10\n",
            "178/178 [==============================] - 40s 225ms/step - loss: 0.2528 - accuracy: 0.8989 - val_loss: 0.3040 - val_accuracy: 0.8566\n",
            "Epoch 6/10\n",
            "178/178 [==============================] - 38s 214ms/step - loss: 0.2229 - accuracy: 0.9146 - val_loss: 0.2566 - val_accuracy: 0.8767\n",
            "Epoch 7/10\n",
            "178/178 [==============================] - 37s 208ms/step - loss: 0.1904 - accuracy: 0.9289 - val_loss: 0.3492 - val_accuracy: 0.8581\n",
            "Epoch 8/10\n",
            "178/178 [==============================] - 37s 209ms/step - loss: 0.1751 - accuracy: 0.9305 - val_loss: 0.2124 - val_accuracy: 0.9183\n",
            "Epoch 9/10\n",
            "178/178 [==============================] - 38s 212ms/step - loss: 0.1553 - accuracy: 0.9376 - val_loss: 0.2696 - val_accuracy: 0.8953\n",
            "Epoch 10/10\n",
            "178/178 [==============================] - 37s 210ms/step - loss: 0.1214 - accuracy: 0.9520 - val_loss: 0.2692 - val_accuracy: 0.8982\n"
          ]
        }
      ],
      "source": [
        "import tensorflow as tf\n",
        "from tensorflow.keras.layers import Dense,Flatten,Conv2D,MaxPool2D, Activation\n",
        "from tensorflow.keras.optimizers import Adam,RMSprop\n",
        "from tensorflow.keras import Sequential\n",
        "\n",
        "from tensorflow.keras.applications import VGG19\n",
        "base_model = VGG19(weights='imagenet', include_top=False, input_shape=(224, 224, 3))\n",
        "\n",
        "# Freeze the pre-trained layers\n",
        "for layer in base_model.layers:\n",
        "    layer.trainable = False\n",
        "\n",
        "# Create a new model and add the pre-trained VGG-19 as a feature extractor\n",
        "model = Sequential()\n",
        "model.add(base_model)\n",
        "\n",
        "# Add custom top layers for the new task\n",
        "model.add(Flatten())\n",
        "model.add(Dense(256, activation='relu'))\n",
        "model.add(Dense(5, activation='softmax'))  # num_classes is the number of classes in your new task\n",
        "model.compile(optimizer='adam', loss='categorical_crossentropy', metrics=['accuracy'])\n",
        "history_vgg=model.fit(\n",
        "    train_generator,\n",
        "    epochs=10,\n",
        "    steps_per_epoch=len(train_generator),\n",
        "    validation_data=test_generator,\n",
        "    validation_steps=len(test_generator)\n",
        ")"
      ]
    },
    {
      "cell_type": "markdown",
      "metadata": {
        "id": "Q9LVMgpYA_X_"
      },
      "source": [
        "## 6.helperfunction for plotting loss curves 📉"
      ]
    },
    {
      "cell_type": "code",
      "execution_count": null,
      "metadata": {
        "id": "Ci5FVzqHRskn"
      },
      "outputs": [],
      "source": []
    },
    {
      "cell_type": "code",
      "execution_count": null,
      "metadata": {
        "id": "42Gtn1KRAFzh"
      },
      "outputs": [],
      "source": [
        "import pandas as pd\n",
        "def plot_loss_curves(hist):\n",
        "    pd.DataFrame(hist.history).plot(figsize=(5,5))"
      ]
    },
    {
      "cell_type": "code",
      "execution_count": 20,
      "metadata": {
        "id": "XmA2guMYCIqi",
        "colab": {
          "base_uri": "https://localhost:8080/",
          "height": 874
        },
        "outputId": "3deaa20a-0e11-4b62-89b9-b2abcac5f819"
      },
      "outputs": [
        {
          "output_type": "display_data",
          "data": {
            "text/plain": [
              "<Figure size 500x500 with 1 Axes>"
            ],
            "image/png": "[encoded data removed]"
          },
          "metadata": {}
        },
        {
          "output_type": "display_data",
          "data": {
            "text/plain": [
              "<Figure size 500x500 with 1 Axes>"
            ],
            "image/png": "[encoded data removed]"
          },
          "metadata": {}
        }
      ],
      "source": [
        "plot_loss_curves(history)\n",
        "plot_loss_curves(history_vgg)"
      ]
    },
    {
      "cell_type": "markdown",
      "metadata": {
        "id": "ReGEUgh_55EU"
      },
      "source": [
        "## 7.Adam V/S RMSprop 🤜"
      ]
    },
    {
      "cell_type": "code",
      "execution_count": 21,
      "metadata": {
        "id": "PBJn6x7jvY0V",
        "colab": {
          "base_uri": "https://localhost:8080/"
        },
        "outputId": "bb38fdff-b391-417e-832e-2ca2988d7b07"
      },
      "outputs": [
        {
          "output_type": "stream",
          "name": "stdout",
          "text": [
            "Epoch 1/10\n",
            "178/178 [==============================] - 101s 560ms/step - loss: 0.9846 - accuracy: 0.6185 - val_loss: 0.7185 - val_accuracy: 0.7133\n",
            "Epoch 2/10\n",
            "178/178 [==============================] - 95s 535ms/step - loss: 0.6427 - accuracy: 0.7462 - val_loss: 0.5040 - val_accuracy: 0.7821\n",
            "Epoch 3/10\n",
            "178/178 [==============================] - 95s 532ms/step - loss: 0.5388 - accuracy: 0.7869 - val_loss: 0.5377 - val_accuracy: 0.7878\n",
            "Epoch 4/10\n",
            "178/178 [==============================] - 95s 532ms/step - loss: 0.4486 - accuracy: 0.8252 - val_loss: 0.4203 - val_accuracy: 0.8179\n",
            "Epoch 5/10\n",
            "178/178 [==============================] - 95s 532ms/step - loss: 0.3630 - accuracy: 0.8545 - val_loss: 0.3587 - val_accuracy: 0.8616\n",
            "Epoch 6/10\n",
            "178/178 [==============================] - 95s 532ms/step - loss: 0.3110 - accuracy: 0.8815 - val_loss: 0.4378 - val_accuracy: 0.8215\n",
            "Epoch 7/10\n",
            "178/178 [==============================] - 95s 533ms/step - loss: 0.2540 - accuracy: 0.9014 - val_loss: 0.3445 - val_accuracy: 0.8624\n",
            "Epoch 8/10\n",
            "178/178 [==============================] - 99s 555ms/step - loss: 0.2008 - accuracy: 0.9215 - val_loss: 0.4789 - val_accuracy: 0.8509\n",
            "Epoch 9/10\n",
            "178/178 [==============================] - 95s 534ms/step - loss: 0.1534 - accuracy: 0.9400 - val_loss: 0.4926 - val_accuracy: 0.8738\n",
            "Epoch 10/10\n",
            "178/178 [==============================] - 95s 534ms/step - loss: 0.1265 - accuracy: 0.9543 - val_loss: 0.3740 - val_accuracy: 0.8932\n"
          ]
        }
      ],
      "source": [
        "tf.random.set_seed(42)\n",
        "\n",
        "Model_2=Sequential([\n",
        "    Conv2D(500,3,activation='relu', input_shape=(224,224,3)),  #3 is kernal size\n",
        "    MaxPool2D(),\n",
        "    Conv2D(250, 3, activation='relu'),\n",
        "    MaxPool2D(),\n",
        "    Conv2D(250, 3, activation='relu'),\n",
        "    MaxPool2D(),\n",
        "    Flatten(),\n",
        "    Dense(5, activation='softmax') # softmax as we are working with multiclass problem\n",
        "])\n",
        "Model_2.compile(loss='categorical_crossentropy' ,# as we got multiple classes\n",
        "                            optimizer=tf.keras.optimizers.Adam(), # for now lets dont specify the learning rate,  default is 0.001 and we will also try Rmspromp\n",
        "                            metrics=['accuracy'])# evaluation\n",
        "\n",
        "history_2=Model_2.fit(train_generator,\n",
        "                   epochs=10,\n",
        "                    steps_per_epoch=len(train_generator ),\n",
        "                   validation_data=(test_generator),\n",
        "                   validation_steps=len(test_generator ))"
      ]
    },
    {
      "cell_type": "code",
      "execution_count": null,
      "metadata": {
        "id": "RwXvIipG5r_V"
      },
      "outputs": [],
      "source": [
        "plot_loss_curves(history_2)"
      ]
    },
    {
      "cell_type": "code",
      "execution_count": 22,
      "metadata": {
        "id": "l5kbKN7y8X6T",
        "colab": {
          "base_uri": "https://localhost:8080/"
        },
        "outputId": "9b53f1bb-0637-4256-9340-f8f40945b15f"
      },
      "outputs": [
        {
          "output_type": "stream",
          "name": "stdout",
          "text": [
            "44/44 [==============================] - 7s 146ms/step\n",
            "44/44 [==============================] - 7s 162ms/step\n",
            "44/44 [==============================] - 6s 142ms/step\n"
          ]
        }
      ],
      "source": [
        "\n",
        "import numpy as np\n",
        "y_pred=Model_2.predict(test_generator)\n",
        "yy_pred=model.predict(test_generator)\n",
        "yy_pred=np.argmax(yy_pred,axis=-1)\n",
        "y_pred=np.argmax(y_pred,axis=-1)\n",
        "yyy_pred=Model_1.predict(test_generator)\n",
        "yyy_pred=np.argmax(yyy_pred,axis=-1)"
      ]
    },
    {
      "cell_type": "code",
      "execution_count": 29,
      "metadata": {
        "id": "SCO2nZ3_8VHm",
        "colab": {
          "base_uri": "https://localhost:8080/"
        },
        "outputId": "76c7cdab-39a3-4efa-b5e9-ff83f20e54a7"
      },
      "outputs": [
        {
          "output_type": "stream",
          "name": "stdout",
          "text": [
            "                    precision    recall  f1-score   support\n",
            "\n",
            "Bacteria pneumonia       0.95      0.70      0.80       344\n",
            "          COVID-19       0.90      0.97      0.93        93\n",
            "            NORMAL       1.00      0.96      0.98       697\n",
            "      Tuberculosis       0.96      1.00      0.98        70\n",
            "   Virus pneumonia       0.62      0.97      0.76       191\n",
            "\n",
            "          accuracy                           0.90      1395\n",
            "         macro avg       0.88      0.92      0.89      1395\n",
            "      weighted avg       0.92      0.90      0.90      1395\n",
            "\n"
          ]
        }
      ],
      "source": [
        "\n",
        "y_true=test_generator.labels\n",
        "\n",
        "\n",
        "\n",
        "import numpy as np\n",
        "from sklearn.metrics import classification_report, confusion_matrix\n",
        "\n",
        "\n",
        "class_labels = list(test_generator.class_indices.keys())\n",
        "# y_pred=np.sort(y_pred)\n",
        "confusion_mtx = confusion_matrix(y_true, yy_pred)\n",
        "\n",
        "report = classification_report(y_true, yy_pred, target_names=class_labels)\n",
        "print(report)"
      ]
    },
    {
      "cell_type": "code",
      "execution_count": null,
      "metadata": {
        "id": "dKBtsuGt8ySO"
      },
      "outputs": [],
      "source": [
        "\n",
        "y_true=test_generator.labels\n",
        "\n",
        "\n",
        "\n",
        "import numpy as np\n",
        "from sklearn.metrics import classification_report, confusion_matrix\n",
        "\n",
        "\n",
        "class_labels = list(test_generator.class_indices.keys())\n",
        "# y_pred=np.sort(y_pred)\n",
        "confusion_mtx = confusion_matrix(y_true, yy_pred)\n",
        "\n",
        "report = classification_report(y_true, yy_pred, target_names=class_labels)\n",
        "print(report)"
      ]
    },
    {
      "cell_type": "code",
      "source": [
        "\n",
        "y_true=test_generator.labels\n",
        "\n",
        "\n",
        "\n",
        "import numpy as np\n",
        "from sklearn.metrics import classification_report, confusion_matrix\n",
        "\n",
        "\n",
        "class_labels = list(test_generator.class_indices.keys())\n",
        "# y_pred=np.sort(y_pred)\n",
        "confusion_mtx = confusion_matrix(y_true, y_pred)\n",
        "\n",
        "report = classification_report(y_true, y_pred, target_names=class_labels)\n",
        "print(report)"
      ],
      "metadata": {
        "id": "4lUAEHkSYhSB",
        "colab": {
          "base_uri": "https://localhost:8080/"
        },
        "outputId": "c1de443b-3fbb-4af5-ce77-cf92c2bb3eb3"
      },
      "execution_count": 26,
      "outputs": [
        {
          "output_type": "stream",
          "name": "stdout",
          "text": [
            "                    precision    recall  f1-score   support\n",
            "\n",
            "Bacteria pneumonia       0.86      0.76      0.80       344\n",
            "          COVID-19       0.99      0.88      0.93        93\n",
            "            NORMAL       0.97      0.95      0.96       697\n",
            "      Tuberculosis       0.97      0.94      0.96        70\n",
            "   Virus pneumonia       0.68      0.91      0.78       191\n",
            "\n",
            "          accuracy                           0.89      1395\n",
            "         macro avg       0.89      0.89      0.89      1395\n",
            "      weighted avg       0.90      0.89      0.89      1395\n",
            "\n"
          ]
        }
      ]
    },
    {
      "cell_type": "code",
      "execution_count": 28,
      "metadata": {
        "id": "YjUNh7l4872t",
        "colab": {
          "base_uri": "https://localhost:8080/"
        },
        "outputId": "1d8b5be9-2049-4e62-f7cb-90e586d492b5"
      },
      "outputs": [
        {
          "output_type": "stream",
          "name": "stdout",
          "text": [
            "                    precision    recall  f1-score   support\n",
            "\n",
            "Bacteria pneumonia       0.93      0.69      0.79       344\n",
            "          COVID-19       0.92      0.91      0.92        93\n",
            "            NORMAL       0.97      0.98      0.97       697\n",
            "      Tuberculosis       0.99      0.96      0.97        70\n",
            "   Virus pneumonia       0.65      0.94      0.77       191\n",
            "\n",
            "          accuracy                           0.90      1395\n",
            "         macro avg       0.89      0.90      0.88      1395\n",
            "      weighted avg       0.91      0.90      0.90      1395\n",
            "\n"
          ]
        }
      ],
      "source": [
        "\n",
        "y_true=test_generator.labels\n",
        "\n",
        "\n",
        "\n",
        "import numpy as np\n",
        "from sklearn.metrics import classification_report, confusion_matrix\n",
        "\n",
        "class_labels = list(test_generator.class_indices.keys())\n",
        "\n",
        "confusion_mtx = confusion_matrix(y_true, yyy_pred)\n",
        "\n",
        "report = classification_report(y_true, yyy_pred, target_names=class_labels)\n",
        "print(report)"
      ]
    },
    {
      "cell_type": "code",
      "source": [
        "# calculate_score(y_true,y_pred)"
      ],
      "metadata": {
        "id": "lzqtOExOaMbS"
      },
      "execution_count": null,
      "outputs": []
    },
    {
      "cell_type": "markdown",
      "metadata": {
        "id": "U9vIk17xCn0X"
      },
      "source": [
        "#2.0  Brain MRI Classification 🧠"
      ]
    },
    {
      "cell_type": "code",
      "execution_count": null,
      "metadata": {
        "id": "ClJz0rsaCtdv"
      },
      "outputs": [],
      "source": [
        "Brain_train='/content/drive/MyDrive/Brain_multiclass/Training/'\n",
        "Brain_test='/content/drive/MyDrive/Brain_multiclass/Testing/'"
      ]
    },
    {
      "cell_type": "markdown",
      "metadata": {
        "id": "Yn9IAdKuRKsr"
      },
      "source": [
        "## 2.1 visualizing  our data **🔍**"
      ]
    },
    {
      "cell_type": "code",
      "execution_count": null,
      "metadata": {
        "id": "zxHQe0NEE2Rc"
      },
      "outputs": [],
      "source": [
        "view_random_image(target_dir=Brain_train,target_class='meningioma')"
      ]
    },
    {
      "cell_type": "code",
      "execution_count": null,
      "metadata": {
        "id": "swdkO8cIGPn0"
      },
      "outputs": [],
      "source": [
        "\n",
        "# getting length of the sub classes\n",
        "gol=len(os.listdir('/content/drive/MyDrive/Brain_multiclass/Training/glioma'))\n",
        "men=len(os.listdir('/content/drive/MyDrive/Brain_multiclass/Training/meningioma'))\n",
        "Normal=len(os.listdir('/content/drive/MyDrive/Brain_multiclass/Training/notumor'))\n",
        "pit=len(os.listdir('/content/drive/MyDrive/Brain_multiclass/Training/pituitary'))\n",
        "\n",
        "classes=['glioma', \"meningioma\",'normal','pituitary']\n",
        "values=[gol,men,Normal,pit]\n",
        "\n",
        "fig = plt.figure(figsize=(8, 3))  # Set the width and height of the figure\n",
        "\n",
        "plt.bar(classes,values)\n",
        "\n",
        "# Adding title to the plot\n",
        "plt.title(\"Distribution of classes\")\n",
        "\n",
        "# Adding label on the y-axis\n",
        "plt.ylabel('number of data')\n",
        "\n",
        "# Adding label on the x-axis\n",
        "plt.xlabel('Classes')\n",
        "\n",
        "plt.show()"
      ]
    },
    {
      "cell_type": "markdown",
      "metadata": {
        "id": "GXRotPdxSSBP"
      },
      "source": [
        "## 2.2 Pre-processing ⚙"
      ]
    },
    {
      "cell_type": "code",
      "execution_count": null,
      "metadata": {
        "id": "frqlMxpdMnf4"
      },
      "outputs": [],
      "source": [
        "# train_generator[0]\n"
      ]
    },
    {
      "cell_type": "markdown",
      "metadata": {
        "id": "ohi-7DmoahAG"
      },
      "source": [
        "## 2.3 Model Building 🕺"
      ]
    },
    {
      "cell_type": "code",
      "execution_count": null,
      "metadata": {
        "id": "rOKnb-J6F4xI"
      },
      "outputs": [],
      "source": [
        "import tensorflow as tf\n",
        "from tensorflow.keras.layers import Dense,Flatten,Conv2D,MaxPool2D, Activation\n",
        "from tensorflow.keras.optimizers import Adam,RMSprop\n",
        "from tensorflow.keras import Sequential\n",
        "tf.random.set_seed(42)\n",
        "\n",
        "Model_2=Sequential([\n",
        "    Conv2D(500,3,activation='relu', input_shape=(224,224,3)),  #3 is kernal size\n",
        "    MaxPool2D(),\n",
        "    Conv2D(250, 3, activation='relu'),\n",
        "    MaxPool2D(),\n",
        "    Conv2D(250, 3, activation='relu'),\n",
        "    MaxPool2D(),\n",
        "\n",
        "    Flatten(),\n",
        "    Dense(4, activation='softmax') # softmax as we are working with multiclass problem\n",
        "])\n",
        "Model_2.compile(loss='categorical_crossentropy', # as we got multiple classes\n",
        "                            optimizer=tf.keras.optimizers.Adam(), # for now lets dont specify the learning rate,  default is 0.001 and we will also try Rmspromp\n",
        "                            metrics=['accuracy'])# evaluation\n",
        "\n",
        "history_2=Model_2.fit(train_generator_brain,\n",
        "                   epochs=5,\n",
        "                    steps_per_epoch=len(# dividing into batches and\n",
        "                  train_generator_brain  ),\n",
        "                   validation_data=(test_generator_brain),\n",
        "                   validation_steps=len(test_generator_brain ))"
      ]
    },
    {
      "cell_type": "markdown",
      "metadata": {
        "id": "AnvpAqBpamUX"
      },
      "source": [
        "## 2.4 Plottin Loss 📉"
      ]
    },
    {
      "cell_type": "code",
      "execution_count": null,
      "metadata": {
        "id": "ld8QPusxUrL3"
      },
      "outputs": [],
      "source": [
        "plot_loss_curves(history_2)"
      ]
    },
    {
      "cell_type": "markdown",
      "metadata": {
        "id": "0DMmowErbHcf"
      },
      "source": [
        "## 2.5 RMSprop"
      ]
    },
    {
      "cell_type": "code",
      "execution_count": null,
      "metadata": {
        "id": "-AChQACNbQJf"
      },
      "outputs": [],
      "source": [
        "model_3=Sequential([\n",
        "    Conv2D(500,3,activation='relu', input_shape=(224,224,3)),  #3 is kernal size\n",
        "    MaxPool2D(),\n",
        "    Conv2D(250, 3, activation='relu'),\n",
        "    MaxPool2D(),\n",
        "     Conv2D(250, 3, activation='relu'),\n",
        "    MaxPool2D(),\n",
        "    Flatten(),\n",
        "    Dense(4, activation='softmax') # softmax as we are working with multiclass problem\n",
        "])\n",
        "# we clone the above model  architecture\n",
        "model_3.compile(loss='categorical_crossentropy', # as we got multiple classes\n",
        "                            optimizer=tf.keras.optimizers.RMSprop(), # for now lets dont specify the learning rate,  default is 0.001 and we will also try Rmspromp\n",
        "                            metrics=['accuracy'])# evaluation\n",
        "\n",
        "history_3=Model_2.fit(train_generator_brain,\n",
        "                   epochs=5,\n",
        "                    steps_per_epoch=len(# dividing into batches and\n",
        "                  train_generator_brain  ),\n",
        "                   validation_data=(test_generator_brain),\n",
        "                   validation_steps=len(test_generator_brain ))"
      ]
    }
  ],
  "metadata": {
    "accelerator": "GPU",
    "colab": {
      "provenance": [],
      "gpuType": "T4",
      "include_colab_link": true
    },
    "kernelspec": {
      "display_name": "Python 3",
      "name": "python3"
    },
    "language_info": {
      "name": "python"
    }
  },
  "nbformat": 4,
  "nbformat_minor": 0
}