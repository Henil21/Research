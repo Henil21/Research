{
  "nbformat": 4,
  "nbformat_minor": 0,
  "metadata": {
    "colab": {
      "provenance": [],
      "authorship_tag": "ABX9TyM55hIIzi7lqSoVdRBbF5eb",
      "include_colab_link": true
    },
    "kernelspec": {
      "name": "python3",
      "display_name": "Python 3"
    },
    "language_info": {
      "name": "python"
    }
  },
  "cells": [
    {
      "cell_type": "markdown",
      "metadata": {
        "id": "view-in-github",
        "colab_type": "text"
      },
      "source": [
        "<a href=\"https://colab.research.google.com/github/Henil21/University-Research/blob/main/ITM_Research.ipynb\" target=\"_parent\"><img src=\"https://colab.research.google.com/assets/colab-badge.svg\" alt=\"Open In Colab\"/></a>"
      ]
    },
    {
      "cell_type": "markdown",
      "source": [
        "# MRI Classification For chest and brain diseases :\n",
        "```\n",
        "This notebook contain The implementation of research paper to be published bold \n",
        "\n",
        "author : Henilsinh raj, palak bhatt , Bhuvan tinani\n",
        "```"
      ],
      "metadata": {
        "id": "Yl1R5Sxy7tzh"
      }
    },
    {
      "cell_type": "code",
      "execution_count": null,
      "metadata": {
        "id": "Q0jFOSTa7YFT"
      },
      "outputs": [],
      "source": []
    }
  ]
}