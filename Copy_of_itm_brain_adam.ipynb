{
  "cells": [
    {
      "cell_type": "markdown",
      "metadata": {
        "id": "view-in-github",
        "colab_type": "text"
      },
      "source": [
        "<a href=\"https://colab.research.google.com/github/Henil21/University-Research/blob/main/Copy_of_itm_brain_adam.ipynb\" target=\"_parent\"><img src=\"https://colab.research.google.com/assets/colab-badge.svg\" alt=\"Open In Colab\"/></a>"
      ]
    },
    {
      "cell_type": "code",
      "source": [],
      "metadata": {
        "id": "I2-zDalczoal"
      },
      "execution_count": null,
      "outputs": []
    },
    {
      "cell_type": "code",
      "execution_count": 6,
      "metadata": {
        "id": "c1bUwgHeGded",
        "colab": {
          "base_uri": "https://localhost:8080/"
        },
        "outputId": "9ff9da1d-e63e-4583-8c74-71c88da3abb1"
      },
      "outputs": [
        {
          "output_type": "stream",
          "name": "stdout",
          "text": [
            "Mounted at /content/drive\n"
          ]
        }
      ],
      "source": [
        "from google.colab import drive\n",
        "drive.mount('/content/drive')"
      ]
    },
    {
      "cell_type": "code",
      "execution_count": 7,
      "metadata": {
        "id": "7DSPeE2IDPiG"
      },
      "outputs": [],
      "source": [
        "Brain_train='/content/drive/MyDrive/Brain_multiclass/Training/'\n",
        "Brain_test='/content/drive/MyDrive/Brain_multiclass/Testing/'"
      ]
    },
    {
      "cell_type": "code",
      "execution_count": 8,
      "metadata": {
        "id": "-yaNl39uDYKS"
      },
      "outputs": [],
      "source": [
        "import random\n",
        "import os\n",
        "import matplotlib.pyplot as plt\n",
        "import matplotlib.image as mpimg\n",
        "\n",
        "def view_random_image(target_dir,target_class):\n",
        "\n",
        "   # getting class vise dir link\n",
        "   target=target_dir+target_class\n",
        "\n",
        "   # taking 1 random image from a list of all images under a class\n",
        "   random_img=random.sample(os.listdir(target),1)\n",
        "\n",
        "   #as we have stored it in list we need to access it through index which is zero\n",
        "   image=mpimg.imread(target+'/'+random_img[0])\n",
        "\n",
        "   fig = plt.figure(figsize=(5, 2))  # Set the width and height of the figure\n",
        "\n",
        "\n",
        "   #plotting image\n",
        "   plt.imshow(image)\n",
        "\n",
        "   plt.axis(\"off\")\n",
        "   print(f\"img shape:{image.shape}\")"
      ]
    },
    {
      "cell_type": "code",
      "execution_count": null,
      "metadata": {
        "id": "FBCJmEkfDUby"
      },
      "outputs": [],
      "source": [
        "view_random_image(target_dir=Brain_train,target_class='meningioma')"
      ]
    },
    {
      "cell_type": "code",
      "execution_count": 9,
      "metadata": {
        "id": "aQVatfdKDhpi",
        "colab": {
          "base_uri": "https://localhost:8080/",
          "height": 333
        },
        "outputId": "fb64ddde-790d-4fc3-b076-6b20336bfd30"
      },
      "outputs": [
        {
          "output_type": "display_data",
          "data": {
            "text/plain": [
              "<Figure size 800x300 with 1 Axes>"
            ],
            "image/png": "[encoded data removed]"
          },
          "metadata": {}
        }
      ],
      "source": [
        "\n",
        "# getting length of the sub classes\n",
        "gol=len(os.listdir('/content/drive/MyDrive/Brain_multiclass/Training/glioma'))\n",
        "men=len(os.listdir('/content/drive/MyDrive/Brain_multiclass/Training/meningioma'))\n",
        "Normal=len(os.listdir('/content/drive/MyDrive/Brain_multiclass/Training/notumor'))\n",
        "pit=len(os.listdir('/content/drive/MyDrive/Brain_multiclass/Training/pituitary'))\n",
        "\n",
        "classes=['glioma', \"meningioma\",'normal','pituitary']\n",
        "values=[gol,men,Normal,pit]\n",
        "\n",
        "fig = plt.figure(figsize=(8, 3))  # Set the width and height of the figure\n",
        "\n",
        "plt.bar(classes,values)\n",
        "\n",
        "# Adding title to the plot\n",
        "plt.title(\"Distribution of classes\")\n",
        "\n",
        "# Adding label on the y-axis\n",
        "plt.ylabel('number of data')\n",
        "\n",
        "# Adding label on the x-axis\n",
        "plt.xlabel('Classes')\n",
        "\n",
        "plt.show()"
      ]
    },
    {
      "cell_type": "code",
      "execution_count": 10,
      "metadata": {
        "id": "chuTN3tEDkOc",
        "colab": {
          "base_uri": "https://localhost:8080/"
        },
        "outputId": "db0e21e2-9221-4ad9-e573-276ff306f8de"
      },
      "outputs": [
        {
          "output_type": "stream",
          "name": "stdout",
          "text": [
            "Found 5712 images belonging to 4 classes.\n",
            "Found 1316 images belonging to 4 classes.\n"
          ]
        }
      ],
      "source": [
        "from tensorflow.keras.preprocessing.image import ImageDataGenerator\n",
        "\n",
        "\n",
        "\n",
        "\n",
        "# recaling pixels\n",
        "train_data_gen = ImageDataGenerator(rescale=1./255)\n",
        "\n",
        "# dividing into batches and\n",
        "train_generator_brain = train_data_gen.flow_from_directory(\n",
        "    Brain_train,\n",
        "    target_size=(224, 224), #targeted shape\n",
        "    batch_size=32, #32  images per batch\n",
        "     shuffle=True,\n",
        "     seed=42,\n",
        "    class_mode='categorical' ,# we are working with multiclass problem\n",
        "     #shuffle=True\n",
        ")\n",
        "\n",
        "\n",
        "# recaling pixels\n",
        "test_data_gen_brain = ImageDataGenerator(rescale=1./255)\n",
        "\n",
        "# dividing into batches and\n",
        "test_generator_brain = train_data_gen.flow_from_directory(\n",
        "    Brain_test,\n",
        "    seed=42,\n",
        "    shuffle=False,\n",
        "    target_size=(224, 224), #targeted shape\n",
        "    batch_size=32, #32  images per batch\n",
        "    class_mode='categorical', # we are working with multiclass problem\n",
        "     #shuffle=True\n",
        ")"
      ]
    },
    {
      "cell_type": "code",
      "execution_count": 14,
      "metadata": {
        "id": "43i5TOnPDmaw"
      },
      "outputs": [],
      "source": [
        "import tensorflow as tf\n",
        "from tensorflow.keras.layers import Dense,Flatten,Conv2D,MaxPool2D, Activation\n",
        "from tensorflow.keras.optimizers import Adam,RMSprop\n",
        "from tensorflow.keras import Sequential\n",
        "tf.random.set_seed(42)\n",
        "\n",
        "# Model_2=Sequential([\n",
        "#     Conv2D(500,3,activation='relu', input_shape=(224,224,3)),  #3 is kernal size\n",
        "#     MaxPool2D(),\n",
        "#     Conv2D(250, 3, activation='relu'),\n",
        "#     MaxPool2D(),\n",
        "#     Conv2D(250, 3, activation='relu'),\n",
        "#     MaxPool2D(),\n",
        "\n",
        "#     Flatten(),\n",
        "#     Dense(4, activation='softmax') # softmax as we are working with multiclass problem\n",
        "# ])\n",
        "# Model_2.compile(loss='categorical_crossentropy', # as we got multiple classes\n",
        "#                             optimizer=tf.keras.optimizers.Adam(), # for now lets dont specify the learning rate,  default is 0.001 and we will also try Rmspromp\n",
        "#                             metrics=['accuracy'])# evaluation\n",
        "\n",
        "# history_2=Model_2.fit(train_generator_brain,\n",
        "#                    epochs=5,\n",
        "#                     steps_per_epoch=len(# dividing into batches and\n",
        "#                   train_generator_brain  ),\n",
        "#                    validation_data=(test_generator_brain),\n",
        "#                    validation_steps=len(test_generator_brain ))"
      ]
    },
    {
      "cell_type": "code",
      "execution_count": 15,
      "metadata": {
        "id": "-qQ_z_43DoKQ",
        "colab": {
          "base_uri": "https://localhost:8080/"
        },
        "outputId": "0a83f0fe-0847-4456-9432-fef36ae3fb4b"
      },
      "outputs": [
        {
          "output_type": "stream",
          "name": "stdout",
          "text": [
            "Epoch 1/5\n",
            "179/179 [==============================] - 1096s 6s/step - loss: 1.0167 - accuracy: 0.6560 - val_loss: 0.5511 - val_accuracy: 0.7880\n",
            "Epoch 2/5\n",
            "179/179 [==============================] - 99s 554ms/step - loss: 0.4153 - accuracy: 0.8456 - val_loss: 0.3754 - val_accuracy: 0.8731\n",
            "Epoch 3/5\n",
            "179/179 [==============================] - 98s 549ms/step - loss: 0.2312 - accuracy: 0.9242 - val_loss: 0.3138 - val_accuracy: 0.8875\n",
            "Epoch 4/5\n",
            "179/179 [==============================] - 99s 550ms/step - loss: 0.1386 - accuracy: 0.9540 - val_loss: 0.1768 - val_accuracy: 0.9430\n",
            "Epoch 5/5\n",
            "179/179 [==============================] - 99s 550ms/step - loss: 0.0943 - accuracy: 0.9688 - val_loss: 0.2015 - val_accuracy: 0.9491\n"
          ]
        }
      ],
      "source": [
        "tf.random.set_seed(42)\n",
        "\n",
        "model_3=Sequential([\n",
        "    Conv2D(500,3,activation='relu', input_shape=(224,224,3)),  #3 is kernal size\n",
        "    MaxPool2D(),\n",
        "    Conv2D(250, 3, activation='relu'),\n",
        "    MaxPool2D(),\n",
        "     Conv2D(250, 3, activation='relu'),\n",
        "    MaxPool2D(),\n",
        "    Flatten(),\n",
        "    Dense(4, activation='softmax') # softmax as we are working with multiclass problem\n",
        "])\n",
        "# we clone the above model  architecture\n",
        "model_3.compile(loss='categorical_crossentropy', # as we got multiple classes\n",
        "                            optimizer=tf.keras.optimizers.RMSprop(), # for now lets dont specify the learning rate,  default is 0.001 and we will also try Rmspromp\n",
        "                            metrics=['accuracy'])# evaluation\n",
        "\n",
        "history_3=model_3.fit(train_generator_brain,\n",
        "                   epochs=5,\n",
        "                    steps_per_epoch=len(# dividing into batches and\n",
        "                  train_generator_brain  ),\n",
        "                   validation_data=(test_generator_brain),\n",
        "                   validation_steps=len(test_generator_brain ))"
      ]
    },
    {
      "cell_type": "code",
      "execution_count": 16,
      "metadata": {
        "id": "r9JCK3FOFJgI",
        "colab": {
          "base_uri": "https://localhost:8080/"
        },
        "outputId": "54f77037-e352-4c02-c519-b52d36071a6b"
      },
      "outputs": [
        {
          "output_type": "stream",
          "name": "stdout",
          "text": [
            "42/42 [==============================] - 7s 174ms/step\n"
          ]
        }
      ],
      "source": [
        "import numpy as np\n",
        "y_pred=model_3.predict(test_generator_brain)\n",
        "# yy_pred=model_3.predict(test_generator_brain)\n",
        "# yy_pred=np.argmax(yy_pred,axis=-1)\n",
        "y_pred=np.argmax(y_pred,axis=-1)\n"
      ]
    },
    {
      "cell_type": "code",
      "source": [
        "model_3.evaluate(test_generator_brain)"
      ],
      "metadata": {
        "id": "p-Z4QZ814J_w"
      },
      "execution_count": null,
      "outputs": []
    },
    {
      "cell_type": "code",
      "execution_count": 18,
      "metadata": {
        "id": "WqHWbDdAG7Px"
      },
      "outputs": [],
      "source": [
        "y_true=test_generator_brain.labels\n"
      ]
    },
    {
      "cell_type": "code",
      "execution_count": 19,
      "metadata": {
        "id": "EIznqQulHLkD",
        "colab": {
          "base_uri": "https://localhost:8080/"
        },
        "outputId": "bd00a25a-a1ef-4db7-9320-6f13d2144924"
      },
      "outputs": [
        {
          "output_type": "stream",
          "name": "stdout",
          "text": [
            "              precision    recall  f1-score   support\n",
            "\n",
            "      glioma       0.96      0.90      0.93       300\n",
            "  meningioma       0.89      0.90      0.90       311\n",
            "     notumor       0.96      1.00      0.98       405\n",
            "   pituitary       0.98      0.98      0.98       300\n",
            "\n",
            "    accuracy                           0.95      1316\n",
            "   macro avg       0.95      0.95      0.95      1316\n",
            "weighted avg       0.95      0.95      0.95      1316\n",
            "\n"
          ]
        }
      ],
      "source": [
        "import numpy as np\n",
        "from sklearn.metrics import classification_report, confusion_matrix\n",
        "\n",
        "# Assuming you have a trained model named 'model' and an image data generator named 'data_generator'\n",
        "# predictions = model.predict_generator(data_generator)\n",
        "# predicted_classes = np.argmax(predictions, axis=1)  # Convert probabilities to class labels\n",
        "# true_classes = data_generator.classes\n",
        "class_labels = list(test_generator_brain.class_indices.keys())\n",
        "# y_pred=np.sort(y_pred)\n",
        "confusion_mtx = confusion_matrix(y_true, y_pred)\n",
        "\n",
        "report = classification_report(y_true, y_pred, target_names=class_labels)\n",
        "print(report)\n"
      ]
    }
  ],
  "metadata": {
    "accelerator": "GPU",
    "colab": {
      "provenance": [],
      "include_colab_link": true
    },
    "kernelspec": {
      "display_name": "Python 3",
      "name": "python3"
    },
    "language_info": {
      "name": "python"
    }
  },
  "nbformat": 4,
  "nbformat_minor": 0
}