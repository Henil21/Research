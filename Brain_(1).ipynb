{
  "cells": [
    {
      "cell_type": "markdown",
      "metadata": {
        "id": "view-in-github",
        "colab_type": "text"
      },
      "source": [
        "<a href=\"https://colab.research.google.com/github/Henil21/University-Research/blob/main/Brain_(1).ipynb\" target=\"_parent\"><img src=\"https://colab.research.google.com/assets/colab-badge.svg\" alt=\"Open In Colab\"/></a>"
      ]
    },
    {
      "cell_type": "code",
      "execution_count": null,
      "metadata": {
        "id": "T8VeDaIdzgH2"
      },
      "outputs": [],
      "source": [
        "#fetching the data from cloud\n",
        "Brain_train='/content/drive/MyDrive/data/Brain_multiclass/Training'\n",
        "Brain_test='/content/drive/MyDrive/data/Brain_multiclass/Testing'"
      ]
    },
    {
      "cell_type": "code",
      "execution_count": null,
      "metadata": {
        "colab": {
          "base_uri": "https://localhost:8080/"
        },
        "id": "ckO1efUn0Wca",
        "outputId": "a687b114-daca-4b8a-c4f0-2fa2edc1f0a4"
      },
      "outputs": [
        {
          "output_type": "stream",
          "name": "stdout",
          "text": [
            "Found 5712 images belonging to 4 classes.\n",
            "Found 1316 images belonging to 4 classes.\n"
          ]
        }
      ],
      "source": [
        "from tensorflow.keras.preprocessing.image import ImageDataGenerator\n",
        "\n",
        "# recaling pixels\n",
        "train_data_gen = ImageDataGenerator(rescale=1./255,\n",
        "                                   )\n",
        "\n",
        "# dividing into batches and\n",
        "train_generator = train_data_gen.flow_from_directory(\n",
        "    Brain_train,\n",
        "    target_size=(224,224), #targeted shape\n",
        "    batch_size=(32),#32  images per batch\n",
        "    shuffle=True,\n",
        "    seed=42,\n",
        "    class_mode='categorical', # we are working with multiclass problem\n",
        "\n",
        ")\n",
        "\n",
        "\n",
        "# recaling pixels\n",
        "test_data_gen = ImageDataGenerator(rescale=1./255\n",
        "                                                              )\n",
        "\n",
        "# dividing into batches and\n",
        "test_generator = train_data_gen.flow_from_directory(\n",
        "    Brain_test,\n",
        "    target_size=(224, 224), #targeted shape\n",
        "    batch_size=(32),#32  images per batch\n",
        "     shuffle=False,\n",
        "     seed=42,\n",
        "    class_mode='categorical',# we are working with multiclass problem\n",
        "\n",
        ")"
      ]
    },
    {
      "cell_type": "code",
      "execution_count": null,
      "metadata": {
        "id": "LQCc592RzQAJ",
        "colab": {
          "base_uri": "https://localhost:8080/"
        },
        "outputId": "3931d338-be7a-491b-fba4-bb4ec7164cb5"
      },
      "outputs": [
        {
          "output_type": "stream",
          "name": "stdout",
          "text": [
            "Epoch 1/5\n",
            "179/179 [==============================] - 40s 215ms/step - loss: 0.8401 - accuracy: 0.7918 - val_loss: 0.3151 - val_accuracy: 0.8807\n",
            "Epoch 2/5\n",
            "179/179 [==============================] - 39s 219ms/step - loss: 0.2270 - accuracy: 0.9163 - val_loss: 0.4156 - val_accuracy: 0.8541\n",
            "Epoch 3/5\n",
            "179/179 [==============================] - 39s 217ms/step - loss: 0.1565 - accuracy: 0.9435 - val_loss: 0.2288 - val_accuracy: 0.9195\n",
            "Epoch 4/5\n",
            "179/179 [==============================] - 39s 219ms/step - loss: 0.1169 - accuracy: 0.9576 - val_loss: 0.1373 - val_accuracy: 0.9476\n",
            "Epoch 5/5\n",
            "179/179 [==============================] - 40s 222ms/step - loss: 0.0894 - accuracy: 0.9702 - val_loss: 0.1872 - val_accuracy: 0.9271\n"
          ]
        },
        {
          "output_type": "execute_result",
          "data": {
            "text/plain": [
              "<keras.callbacks.History at 0x7f54443e0460>"
            ]
          },
          "metadata": {},
          "execution_count": 19
        }
      ],
      "source": [
        "import tensorflow as tf\n",
        "from tensorflow.keras.layers import Dense,Flatten,Conv2D,MaxPool2D, Activation\n",
        "from tensorflow.keras.optimizers import Adam,RMSprop\n",
        "from tensorflow.keras import Sequential\n",
        "\n",
        "from tensorflow.keras.applications import VGG19\n",
        "base_model = VGG19(weights='imagenet', include_top=False, input_shape=(224, 224, 3))\n",
        "\n",
        "# Freeze the pre-trained layers\n",
        "for layer in base_model.layers:\n",
        "    layer.trainable = False\n",
        "tf.random.set_seed(42)\n",
        "# Create a new model and add the pre-trained VGG-19 as a feature extractor\n",
        "model = Sequential()\n",
        "model.add(base_model)\n",
        "\n",
        "# Add custom top layers for the new task\n",
        "model.add(Flatten())\n",
        "model.add(Dense(256, activation='relu'))\n",
        "model.add(Dense(4, activation='softmax'))  # num_classes is the number of classes in your new task\n",
        "model.compile(optimizer='adam', loss='categorical_crossentropy', metrics=['accuracy'])\n",
        "model.fit(\n",
        "    train_generator,\n",
        "    epochs=5,\n",
        "    steps_per_epoch=len(train_generator),\n",
        "    validation_data=test_generator,\n",
        "    validation_steps=len(test_generator)\n",
        ")"
      ]
    },
    {
      "cell_type": "code",
      "source": [
        "import tensorflow as tf\n",
        "from tensorflow.keras.layers import Dense,Flatten,Conv2D,MaxPool2D, Activation\n",
        "from tensorflow.keras.optimizers import Adam,RMSprop\n",
        "from tensorflow.keras import Sequential\n",
        "\n",
        "from tensorflow.keras.applications import VGG19\n",
        "base_model = VGG19(weights='imagenet', include_top=False, input_shape=(224, 224, 3))\n",
        "\n",
        "# Freeze the pre-trained layers\n",
        "for layer in base_model.layers:\n",
        "    layer.trainable = False\n",
        "tf.random.set_seed(42)\n",
        "# Create a new model and add the pre-trained VGG-19 as a feature extractor\n",
        "model_rm = Sequential()\n",
        "model_rm.add(base_model)\n",
        "\n",
        "# Add custom top layers for the new task\n",
        "model_rm.add(Flatten())\n",
        "model_rm.add(Dense(256, activation='relu'))\n",
        "model_rm.add(Dense(4, activation='softmax'))  # num_classes is the number of classes in your new task\n",
        "model_rm.compile(optimizer='rmsprop', loss='categorical_crossentropy', metrics=['accuracy'])\n",
        "model_rm.fit(\n",
        "    train_generator,\n",
        "    epochs=5,\n",
        "    steps_per_epoch=len(train_generator),\n",
        "    validation_data=test_generator,\n",
        "    validation_steps=len(test_generator)\n",
        ")"
      ],
      "metadata": {
        "colab": {
          "base_uri": "https://localhost:8080/"
        },
        "id": "R9smS2jGNU7L",
        "outputId": "a58aed72-934d-4779-fe3a-253d389121e6"
      },
      "execution_count": null,
      "outputs": [
        {
          "output_type": "stream",
          "name": "stdout",
          "text": [
            "Epoch 1/5\n",
            "179/179 [==============================] - 42s 229ms/step - loss: 1.5968 - accuracy: 0.7020 - val_loss: 0.5018 - val_accuracy: 0.8191\n",
            "Epoch 2/5\n",
            "179/179 [==============================] - 39s 219ms/step - loss: 0.4572 - accuracy: 0.8281 - val_loss: 0.6095 - val_accuracy: 0.7880\n",
            "Epoch 3/5\n",
            "179/179 [==============================] - 40s 224ms/step - loss: 0.3457 - accuracy: 0.8678 - val_loss: 0.5822 - val_accuracy: 0.7895\n",
            "Epoch 4/5\n",
            "179/179 [==============================] - 43s 239ms/step - loss: 0.2716 - accuracy: 0.8965 - val_loss: 0.4037 - val_accuracy: 0.8511\n",
            "Epoch 5/5\n",
            "179/179 [==============================] - 39s 219ms/step - loss: 0.2259 - accuracy: 0.9142 - val_loss: 0.2109 - val_accuracy: 0.9126\n"
          ]
        },
        {
          "output_type": "execute_result",
          "data": {
            "text/plain": [
              "<keras.callbacks.History at 0x7f54cf382950>"
            ]
          },
          "metadata": {},
          "execution_count": 21
        }
      ]
    },
    {
      "cell_type": "code",
      "execution_count": null,
      "metadata": {
        "colab": {
          "base_uri": "https://localhost:8080/"
        },
        "id": "r9JCK3FOFJgI",
        "outputId": "0b678c03-9ecd-4ba3-a170-ad088cbf0709"
      },
      "outputs": [
        {
          "output_type": "stream",
          "name": "stdout",
          "text": [
            "42/42 [==============================] - 7s 160ms/step\n",
            "42/42 [==============================] - 8s 184ms/step\n"
          ]
        }
      ],
      "source": [
        "import numpy as np\n",
        "y_pred=model.predict(test_generator)\n",
        "yy_pred=model_rm.predict(test_generator)\n",
        "yy_pred=np.argmax(yy_pred,axis=-1)\n",
        "y_pred=np.argmax(y_pred,axis=-1)\n"
      ]
    },
    {
      "cell_type": "code",
      "source": [
        "model.evaluate(test_generator)"
      ],
      "metadata": {
        "colab": {
          "base_uri": "https://localhost:8080/"
        },
        "id": "p-Z4QZ814J_w",
        "outputId": "1010866c-a7ba-4f46-e6e7-6c0275bea2bf"
      },
      "execution_count": null,
      "outputs": [
        {
          "output_type": "stream",
          "name": "stdout",
          "text": [
            "42/42 [==============================] - 7s 156ms/step - loss: 0.1337 - accuracy: 0.9483\n"
          ]
        },
        {
          "output_type": "execute_result",
          "data": {
            "text/plain": [
              "[0.13369862735271454, 0.9483282566070557]"
            ]
          },
          "metadata": {},
          "execution_count": 4
        }
      ]
    },
    {
      "cell_type": "code",
      "execution_count": null,
      "metadata": {
        "id": "WqHWbDdAG7Px"
      },
      "outputs": [],
      "source": [
        "y_true=test_generator.labels\n"
      ]
    },
    {
      "cell_type": "code",
      "execution_count": null,
      "metadata": {
        "colab": {
          "base_uri": "https://localhost:8080/"
        },
        "id": "EIznqQulHLkD",
        "outputId": "cef6b565-0ad8-4bb7-eb68-07b09bfbd027"
      },
      "outputs": [
        {
          "output_type": "stream",
          "name": "stdout",
          "text": [
            "              precision    recall  f1-score   support\n",
            "\n",
            "      glioma       0.94      0.90      0.92       300\n",
            "  meningioma       0.90      0.85      0.87       311\n",
            "     notumor       0.94      1.00      0.97       405\n",
            "   pituitary       0.97      0.98      0.98       300\n",
            "\n",
            "    accuracy                           0.94      1316\n",
            "   macro avg       0.94      0.93      0.93      1316\n",
            "weighted avg       0.94      0.94      0.94      1316\n",
            "\n"
          ]
        }
      ],
      "source": [
        "import numpy as np\n",
        "from sklearn.metrics import classification_report, confusion_matrix\n",
        "\n",
        "# Assuming you have a trained model named 'model' and an image data generator named 'data_generator'\n",
        "# predictions = model.predict_generator(data_generator)\n",
        "# predicted_classes = np.argmax(predictions, axis=1)  # Convert probabilities to class labels\n",
        "# true_classes = data_generator.classes\n",
        "class_labels = list(test_generator.class_indices.keys())\n",
        "# y_pred=np.sort(y_pred)\n",
        "confusion_mtx = confusion_matrix(y_true, y_pred)\n",
        "\n",
        "report = classification_report(y_true, y_pred, target_names=class_labels)\n",
        "print(report)\n"
      ]
    },
    {
      "cell_type": "code",
      "execution_count": null,
      "metadata": {
        "colab": {
          "base_uri": "https://localhost:8080/"
        },
        "id": "YMj5XY1YPhYw",
        "outputId": "5789763a-4ae6-4321-dc60-a3694ca844a7"
      },
      "outputs": [
        {
          "output_type": "stream",
          "name": "stdout",
          "text": [
            "              precision    recall  f1-score   support\n",
            "\n",
            "      glioma       0.85      0.88      0.86       300\n",
            "  meningioma       0.87      0.79      0.83       311\n",
            "     notumor       0.99      0.98      0.98       405\n",
            "   pituitary       0.93      0.99      0.95       300\n",
            "\n",
            "    accuracy                           0.91      1316\n",
            "   macro avg       0.91      0.91      0.91      1316\n",
            "weighted avg       0.91      0.91      0.91      1316\n",
            "\n"
          ]
        }
      ],
      "source": [
        "import numpy as np\n",
        "from sklearn.metrics import classification_report, confusion_matrix\n",
        "\n",
        "# Assuming you have a trained model named 'model' and an image data generator named 'data_generator'\n",
        "# predictions = model.predict_generator(data_generator)\n",
        "# predicted_classes = np.argmax(predictions, axis=1)  # Convert probabilities to class labels\n",
        "# true_classes = data_generator.classes\n",
        "class_labels = list(test_generator.class_indices.keys())\n",
        "# y_pred=np.sort(y_pred)\n",
        "confusion_mtx = confusion_matrix(y_true, yy_pred)\n",
        "\n",
        "report = classification_report(y_true, yy_pred, target_names=class_labels)\n",
        "print(report)\n"
      ]
    },
    {
      "cell_type": "code",
      "execution_count": null,
      "metadata": {
        "colab": {
          "background_save": true
        },
        "id": "jQpc6J-2RdPL",
        "outputId": "6addd51d-0aa4-42fd-8779-5b9cd7cddbba"
      },
      "outputs": [
        {
          "data": {
            "text/plain": [
              "0"
            ]
          },
          "execution_count": 8,
          "metadata": {},
          "output_type": "execute_result"
        }
      ],
      "source": [
        "first_batch = test_generator[0]\n",
        "first_image_path = test_generator.filepaths[0]\n",
        "first_image_label = test_generator.classes[test_generator.index_array[0]]\n",
        "first_image_label"
      ]
    },
    {
      "cell_type": "code",
      "execution_count": null,
      "metadata": {
        "colab": {
          "base_uri": "https://localhost:8080/"
        },
        "id": "NwqAibGyJyPa",
        "outputId": "d157b2e2-d20b-4ab4-8149-5dee9b980971"
      },
      "outputs": [
        {
          "data": {
            "text/plain": [
              "array([[0., 1., 0., 0.],\n",
              "       [0., 0., 1., 0.],\n",
              "       [1., 0., 0., 0.],\n",
              "       ...,\n",
              "       [0., 1., 0., 0.],\n",
              "       [0., 0., 1., 0.],\n",
              "       [0., 0., 0., 1.]], dtype=float32)"
            ]
          },
          "execution_count": 56,
          "metadata": {},
          "output_type": "execute_result"
        }
      ],
      "source": [
        "y_true = []\n",
        "for i in range(len(test_generator)):\n",
        "    _, labels = test_generator[i]\n",
        "    y_true.extend(labels)\n",
        "\n",
        "y_true = np.array(y_true)\n",
        "y_true[:1000]\n"
      ]
    },
    {
      "cell_type": "code",
      "execution_count": null,
      "metadata": {
        "colab": {
          "base_uri": "https://localhost:8080/"
        },
        "id": "FbMwMJ7RQ_gJ",
        "outputId": "deb8ef89-132a-4482-a403-252ae905762b"
      },
      "outputs": [
        {
          "data": {
            "text/plain": [
              "array([0., 1., 0., 0.], dtype=float32)"
            ]
          },
          "execution_count": 59,
          "metadata": {},
          "output_type": "execute_result"
        }
      ],
      "source": [
        "first_batch = test_generator[0]\n",
        "first_image_class = first_batch[1][0]\n",
        "first_image_class"
      ]
    }
  ],
  "metadata": {
    "accelerator": "GPU",
    "colab": {
      "provenance": [],
      "include_colab_link": true
    },
    "kernelspec": {
      "display_name": "Python 3",
      "name": "python3"
    },
    "language_info": {
      "name": "python"
    }
  },
  "nbformat": 4,
  "nbformat_minor": 0
}